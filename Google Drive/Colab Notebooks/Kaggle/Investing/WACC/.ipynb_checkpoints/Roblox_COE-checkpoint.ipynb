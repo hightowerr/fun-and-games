{
 "cells": [
  {
   "cell_type": "markdown",
   "metadata": {},
   "source": [
    "## Purpose\n",
    "The cost of equity is the rate of return an investor requires from stock before looking at alternative investment opportunities. Represented as a percentage Cost of equity is the threshold that must be surpassed for an investor to proceed further with an investment. Generally speaking the higher the risk of investment the higher the cost of equity.\n",
    "\n",
    "## Inputs\n",
    "The cost of equity has three components. \n",
    "\n",
    "1. Risk-Free Rate (rf) - The risk-free rate is the return that an investor would expect an investment with zero risk (no default and reinvestment risk), over a defined period.\n",
    "2. Implied Equity risk premium (IERP) - A forward-looking version of the historic equity risk premium.\n",
    "3. Leveraged Beta (LV) - The beta of a firm inclusive of the effects of the capital structure.\n",
    "\n",
    "## Outputs\n",
    "A percentage that encapsulates the price of risk in the market\n",
    "\n",
    "## How to do it\n",
    "#### Import the Data"
   ]
  },
  {
   "cell_type": "code",
   "execution_count": 1,
   "metadata": {},
   "outputs": [],
   "source": [
    "import pandas as pd\n",
    "import numpy as np\n",
    "from datetime import date\n",
    "from sympy.solvers import solve\n",
    "from sympy import Symbol\n",
    "from datetime import date\n",
    "import pandas_datareader.data as web\n",
    "import requests\n",
    "from pandas_datareader.data import DataReader"
   ]
  },
  {
   "cell_type": "markdown",
   "metadata": {},
   "source": [
    "### Risk-Free Rate (rf)\n",
    "The risk-free rate is the return that an investor would expect an investment with zero risk (no default and reinvestment risk), over a defined period. \n",
    "\n",
    "In the code posted below, I calculate the rolling 5-year historical average yield in the 5-year US note from 2017 - to 2022.\n",
    "\n",
    "Roblox is a US company. The US government is considered safe so I will use straightforward risk-free in my calculation. If I were valuing a Russian company I would subtract the stable market (US) CDS spread from the Russian CDS spread. I would then subtract this difference spread from the stable market risk-free rate."
   ]
  },
  {
   "cell_type": "code",
   "execution_count": 2,
   "metadata": {},
   "outputs": [
    {
     "name": "stdout",
     "output_type": "stream",
     "text": [
      "5-year historical average US Treasury rate is 1.576\n"
     ]
    }
   ],
   "source": [
    "start = 2017\n",
    "end = 2022\n",
    "\n",
    "periods_per_year = 1\n",
    "# Load historical 5-year Treasury rate:\n",
    "treasury_5yr_monthly = (web.DataReader('DGS5', 'fred', start, end)\n",
    "                         .resample('M')\n",
    "                         .last()\n",
    "                         .div(periods_per_year)\n",
    "                         .squeeze())\n",
    "\n",
    "riskfree_rate = treasury_5yr_monthly.mean()\n",
    "print(\"5-year historical average US Treasury rate is %.03f\" % (riskfree_rate)) # 1.576% on 06.03.mar"
   ]
  },
  {
   "cell_type": "markdown",
   "metadata": {},
   "source": [
    "## Implied Equity risk premium (IERP)\n",
    "To calculate Implied equity risk premium (IERP) I take the S&P 500 as a proxy for the broad stock market of Morocco. To estimate the implied equity risk premium, I will use a three-stage model.\n",
    "\n",
    "Using data from the following source - https://pages.stern.nyu.edu/~adamodar/New_Home_Page/datafile/spearn.htm \n",
    "I look at dividends as a percentage of the index for 2011 to 2021 to get normalised dividends. "
   ]
  },
  {
   "cell_type": "code",
   "execution_count": 3,
   "metadata": {},
   "outputs": [
    {
     "data": {
      "text/html": [
       "<div>\n",
       "<style scoped>\n",
       "    .dataframe tbody tr th:only-of-type {\n",
       "        vertical-align: middle;\n",
       "    }\n",
       "\n",
       "    .dataframe tbody tr th {\n",
       "        vertical-align: top;\n",
       "    }\n",
       "\n",
       "    .dataframe thead th {\n",
       "        text-align: right;\n",
       "    }\n",
       "</style>\n",
       "<table border=\"1\" class=\"dataframe\">\n",
       "  <thead>\n",
       "    <tr style=\"text-align: right;\">\n",
       "      <th></th>\n",
       "      <th>index</th>\n",
       "      <th>Dividend Yield</th>\n",
       "    </tr>\n",
       "    <tr>\n",
       "      <th>Year</th>\n",
       "      <th></th>\n",
       "      <th></th>\n",
       "    </tr>\n",
       "  </thead>\n",
       "  <tbody>\n",
       "    <tr>\n",
       "      <th>2021</th>\n",
       "      <td>4766.18</td>\n",
       "      <td>0.01240</td>\n",
       "    </tr>\n",
       "    <tr>\n",
       "      <th>2020</th>\n",
       "      <td>3756.07</td>\n",
       "      <td>0.01510</td>\n",
       "    </tr>\n",
       "    <tr>\n",
       "      <th>2019</th>\n",
       "      <td>3230.78</td>\n",
       "      <td>0.01830</td>\n",
       "    </tr>\n",
       "    <tr>\n",
       "      <th>2018</th>\n",
       "      <td>2506.85</td>\n",
       "      <td>0.02140</td>\n",
       "    </tr>\n",
       "    <tr>\n",
       "      <th>2017</th>\n",
       "      <td>2673.61</td>\n",
       "      <td>0.01830</td>\n",
       "    </tr>\n",
       "    <tr>\n",
       "      <th>2016</th>\n",
       "      <td>2238.83</td>\n",
       "      <td>0.02034</td>\n",
       "    </tr>\n",
       "    <tr>\n",
       "      <th>2015</th>\n",
       "      <td>2043.94</td>\n",
       "      <td>0.02120</td>\n",
       "    </tr>\n",
       "    <tr>\n",
       "      <th>2014</th>\n",
       "      <td>2058.90</td>\n",
       "      <td>0.01920</td>\n",
       "    </tr>\n",
       "    <tr>\n",
       "      <th>2013</th>\n",
       "      <td>1848.36</td>\n",
       "      <td>0.01890</td>\n",
       "    </tr>\n",
       "    <tr>\n",
       "      <th>2012</th>\n",
       "      <td>1426.19</td>\n",
       "      <td>0.02190</td>\n",
       "    </tr>\n",
       "    <tr>\n",
       "      <th>2011</th>\n",
       "      <td>1257.60</td>\n",
       "      <td>0.02110</td>\n",
       "    </tr>\n",
       "  </tbody>\n",
       "</table>\n",
       "</div>"
      ],
      "text/plain": [
       "        index  Dividend Yield\n",
       "Year                         \n",
       "2021  4766.18         0.01240\n",
       "2020  3756.07         0.01510\n",
       "2019  3230.78         0.01830\n",
       "2018  2506.85         0.02140\n",
       "2017  2673.61         0.01830\n",
       "2016  2238.83         0.02034\n",
       "2015  2043.94         0.02120\n",
       "2014  2058.90         0.01920\n",
       "2013  1848.36         0.01890\n",
       "2012  1426.19         0.02190\n",
       "2011  1257.60         0.02110"
      ]
     },
     "execution_count": 3,
     "metadata": {},
     "output_type": "execute_result"
    }
   ],
   "source": [
    "# Create dictionary from a bunch of Series/data\n",
    "Year = pd.Series(data = [\"2021\", \"2020\", \"2019\", \"2018\", \"2017\", \"2016\", \"2015\", \"2014\", \"2013\", \"2012\", \"2011\"])\n",
    "index = pd.Series(data = [\"4766.18\", \"3756.07\", \"3230.78\", \"2506.85\", \"2673.61\", \"2238.83\", \"2043.94\", \"2058.90\", \"1848.36\", \"1426.19\", \"1257.60\"])\n",
    "Dividend_Yield = pd.Series(data = [\"0.0124\", \"0.0151\", \"0.0183\", \"0.0214\", \"0.0183\", \"0.02034\",\"0.0212\", \"0.0192\", \"0.0189\", \"0.0219\", \"0.0211\"])\n",
    "\n",
    "# Create a dictionary with the data given above\n",
    "a_dict = {'Year':Year,'index':index,'Dividend Yield':Dividend_Yield}\n",
    "\n",
    "# Use the dictionary to create a Pandas DataFrame\n",
    "sp500 = pd.DataFrame(a_dict)\n",
    "sp500['Dividend Yield'] = sp500['Dividend Yield'].astype(float)\n",
    "sp500['Dividend Yield'] = sp500['Dividend Yield'].astype(float)\n",
    "sp500['index'] = sp500['index'].astype(float)\n",
    "sp500 = sp500.set_index('Year')\n",
    "sp500"
   ]
  },
  {
   "cell_type": "code",
   "execution_count": 5,
   "metadata": {},
   "outputs": [
    {
     "name": "stdout",
     "output_type": "stream",
     "text": [
      "The dividends averaged 0.01892\n"
     ]
    }
   ],
   "source": [
    "div_avg = sp500['Dividend Yield'].mean()\n",
    "print(\"The dividends averaged %.05f\" % (div_avg))"
   ]
  },
  {
   "cell_type": "code",
   "execution_count": 6,
   "metadata": {},
   "outputs": [
    {
     "name": "stdout",
     "output_type": "stream",
     "text": [
      "The current market value of the index as of right now is 4204.31000\n"
     ]
    }
   ],
   "source": [
    "current_index = 4204.31 # The current market value of the index as of right now\n",
    "print(\"The current market value of the index as of right now is %.05f\" % (current_index))\n"
   ]
  },
  {
   "cell_type": "code",
   "execution_count": 7,
   "metadata": {},
   "outputs": [
    {
     "name": "stdout",
     "output_type": "stream",
     "text": [
      "Applying the 0.01892 yield to the current market value of the index 4204.31000 results in normalized dividends of 79.55 index points:\n"
     ]
    }
   ],
   "source": [
    "norm_dividends = sp500['Dividend Yield'].mean() * current_index; norm_dividends\n",
    "print(\"Applying the %.05f yield to the current market value of the index %.05f results in normalized dividends of %.02f index points:\" % (div_avg, current_index, norm_dividends))"
   ]
  },
  {
   "cell_type": "markdown",
   "metadata": {},
   "source": [
    "As we can see in the table above, the dividends averaged 1.89% of the index each year. Applying the 1.89% yield to the current market value of the index (4,204.31 as of 13/03/2021) results in normalized dividends of 79.55 index points.\n",
    "\n",
    "I will assume that dividends will grow at 2% the expected dividends over the next 5 years can be seen below."
   ]
  },
  {
   "cell_type": "code",
   "execution_count": 8,
   "metadata": {},
   "outputs": [
    {
     "data": {
      "text/plain": [
       "[79.55318940000001,\n",
       " 81.14425318800001,\n",
       " 82.76713825176,\n",
       " 84.4224810167952,\n",
       " 86.1109306371311,\n",
       " 87.83314924987373]"
      ]
     },
     "execution_count": 8,
     "metadata": {},
     "output_type": "execute_result"
    }
   ],
   "source": [
    "rfrate = riskfree_rate / 100 # get decimal percentage\n",
    "growth_rt = 0.02 # assumption of how much dividends grow\n",
    "\n",
    "cashflow = [norm_dividends]\n",
    "for i in range(5): # Estimate expected cash flows for the next five years \n",
    "    cashflow.append(cashflow[i]* (1+ growth_rt)) \n",
    "    \n",
    "cashflow"
   ]
  },
  {
   "cell_type": "markdown",
   "metadata": {},
   "source": [
    "Based on the expected dividends and the actual price level of the index, we will solve (using the sympy package) for the implied cost of equity.\n",
    "The implied ERP is calculated netting out the risk-free rate from the implied cost of equity."
   ]
  },
  {
   "cell_type": "code",
   "execution_count": 9,
   "metadata": {},
   "outputs": [
    {
     "name": "stdout",
     "output_type": "stream",
     "text": [
      "all results:\n",
      "[0.0353724842017012, -1.0674011010265 - 0.0636057271478609*I, -1.0674011010265 + 0.0636057271478609*I, -0.932753377245433 - 0.0725077134569027*I, -0.932753377245433 + 0.0725077134569027*I]\n",
      "final result\n",
      "0.0353724842017012\n"
     ]
    },
    {
     "data": {
      "text/plain": [
       "0.019609150868367817"
      ]
     },
     "execution_count": 9,
     "metadata": {},
     "output_type": "execute_result"
    }
   ],
   "source": [
    "# Solve for an internal rate of return and subtract out the risk rate\n",
    "r = Symbol('r') \n",
    "result = solve(81.144/(1+r) + \n",
    "               82.767/(1+r)**2 + \n",
    "               84.422/(1+r)**3 +\n",
    "               86.110/(1+r)**4 + \n",
    "               87.833/(1+r)**5 +\n",
    "               87.833*(1 + rfrate)/((r-rfrate)*(1+r)**5)-current_index, r)\n",
    "print(\"all results:\")\n",
    "print(result)\n",
    "print(\"final result\")\n",
    "for rs in result:\n",
    "    try:\n",
    "        if rs > 0:\n",
    "            print(rs)\n",
    "            exp_ret = float(rs)\n",
    "    except TypeError:\n",
    "        # To capture non-real error\n",
    "        pass\n",
    "    \n",
    "irp = exp_ret - rfrate; irp # Implied Equity Risk Premium"
   ]
  },
  {
   "cell_type": "markdown",
   "metadata": {},
   "source": [
    "### Bottom up Beta\n",
    "The weight average Beta of the business or business a firm is in. There are 5 steps in in estimating bottom up betas.\n",
    "\n",
    "### Step 1: Find as many publicly businesses that your firm operates in.\n",
    "Roblox is in the entertainment industry. I pulled the below csv from the website finbox"
   ]
  },
  {
   "cell_type": "code",
   "execution_count": 10,
   "metadata": {},
   "outputs": [
    {
     "data": {
      "text/html": [
       "<div>\n",
       "<style scoped>\n",
       "    .dataframe tbody tr th:only-of-type {\n",
       "        vertical-align: middle;\n",
       "    }\n",
       "\n",
       "    .dataframe tbody tr th {\n",
       "        vertical-align: top;\n",
       "    }\n",
       "\n",
       "    .dataframe thead th {\n",
       "        text-align: right;\n",
       "    }\n",
       "</style>\n",
       "<table border=\"1\" class=\"dataframe\">\n",
       "  <thead>\n",
       "    <tr style=\"text-align: right;\">\n",
       "      <th></th>\n",
       "      <th>Name</th>\n",
       "      <th>Full Ticker</th>\n",
       "      <th>Ticker</th>\n",
       "      <th>Trading Country ISO Code</th>\n",
       "      <th>Operating Country ISO Code</th>\n",
       "      <th>Industry</th>\n",
       "      <th>Beta (5 Year)</th>\n",
       "      <th>Total Debt</th>\n",
       "      <th>Total Equity</th>\n",
       "      <th>Revenue</th>\n",
       "      <th>Enterprise Value (EV)</th>\n",
       "      <th>debt2Equity</th>\n",
       "    </tr>\n",
       "  </thead>\n",
       "  <tbody>\n",
       "    <tr>\n",
       "      <th>0</th>\n",
       "      <td>Netflix, Inc.</td>\n",
       "      <td>NASDAQGS:NFLX</td>\n",
       "      <td>NFLX</td>\n",
       "      <td>USA</td>\n",
       "      <td>USA</td>\n",
       "      <td>Entertainment</td>\n",
       "      <td>0.8125</td>\n",
       "      <td>18006.6074</td>\n",
       "      <td>15314.6172</td>\n",
       "      <td>28632.9688</td>\n",
       "      <td>305326.6250</td>\n",
       "      <td>1.175779</td>\n",
       "    </tr>\n",
       "    <tr>\n",
       "      <th>1</th>\n",
       "      <td>The Walt Disney Company</td>\n",
       "      <td>NYSE:DIS</td>\n",
       "      <td>DIS</td>\n",
       "      <td>USA</td>\n",
       "      <td>USA</td>\n",
       "      <td>Entertainment</td>\n",
       "      <td>1.1694</td>\n",
       "      <td>58313.0000</td>\n",
       "      <td>102224.0000</td>\n",
       "      <td>67418.0000</td>\n",
       "      <td>321303.0313</td>\n",
       "      <td>0.570443</td>\n",
       "    </tr>\n",
       "    <tr>\n",
       "      <th>2</th>\n",
       "      <td>Sea Limited</td>\n",
       "      <td>NYSE:SE</td>\n",
       "      <td>SE</td>\n",
       "      <td>USA</td>\n",
       "      <td>SGP</td>\n",
       "      <td>Entertainment</td>\n",
       "      <td>1.3023</td>\n",
       "      <td>4118.1758</td>\n",
       "      <td>7810.5322</td>\n",
       "      <td>8299.6260</td>\n",
       "      <td>156933.0313</td>\n",
       "      <td>0.527259</td>\n",
       "    </tr>\n",
       "    <tr>\n",
       "      <th>3</th>\n",
       "      <td>NetEase, Inc.</td>\n",
       "      <td>OTCPK:NETT.F</td>\n",
       "      <td>NETT.F</td>\n",
       "      <td>USA</td>\n",
       "      <td>CHN</td>\n",
       "      <td>Entertainment</td>\n",
       "      <td>0.5590</td>\n",
       "      <td>3157.3940</td>\n",
       "      <td>14956.3018</td>\n",
       "      <td>12869.7119</td>\n",
       "      <td>63678.1445</td>\n",
       "      <td>0.211108</td>\n",
       "    </tr>\n",
       "    <tr>\n",
       "      <th>4</th>\n",
       "      <td>NetEase, Inc.</td>\n",
       "      <td>NASDAQGS:NTES</td>\n",
       "      <td>NTES</td>\n",
       "      <td>USA</td>\n",
       "      <td>CHN</td>\n",
       "      <td>Entertainment</td>\n",
       "      <td>0.5590</td>\n",
       "      <td>3157.3940</td>\n",
       "      <td>14956.3018</td>\n",
       "      <td>12869.7119</td>\n",
       "      <td>63678.1445</td>\n",
       "      <td>0.211108</td>\n",
       "    </tr>\n",
       "  </tbody>\n",
       "</table>\n",
       "</div>"
      ],
      "text/plain": [
       "                      Name    Full Ticker  Ticker Trading Country ISO Code  \\\n",
       "0            Netflix, Inc.  NASDAQGS:NFLX    NFLX                      USA   \n",
       "1  The Walt Disney Company       NYSE:DIS     DIS                      USA   \n",
       "2              Sea Limited        NYSE:SE      SE                      USA   \n",
       "3            NetEase, Inc.   OTCPK:NETT.F  NETT.F                      USA   \n",
       "4            NetEase, Inc.  NASDAQGS:NTES    NTES                      USA   \n",
       "\n",
       "  Operating Country ISO Code       Industry  Beta (5 Year)  Total Debt  \\\n",
       "0                        USA  Entertainment         0.8125  18006.6074   \n",
       "1                        USA  Entertainment         1.1694  58313.0000   \n",
       "2                        SGP  Entertainment         1.3023   4118.1758   \n",
       "3                        CHN  Entertainment         0.5590   3157.3940   \n",
       "4                        CHN  Entertainment         0.5590   3157.3940   \n",
       "\n",
       "   Total Equity     Revenue  Enterprise Value (EV)  debt2Equity  \n",
       "0    15314.6172  28632.9688            305326.6250     1.175779  \n",
       "1   102224.0000  67418.0000            321303.0313     0.570443  \n",
       "2     7810.5322   8299.6260            156933.0313     0.527259  \n",
       "3    14956.3018  12869.7119             63678.1445     0.211108  \n",
       "4    14956.3018  12869.7119             63678.1445     0.211108  "
      ]
     },
     "execution_count": 10,
     "metadata": {},
     "output_type": "execute_result"
    }
   ],
   "source": [
    "data = pd.read_csv('Roblox - Entertainment - Bottom Beta.csv')\n",
    "df1 = data.dropna()#; rblx_1.info() # Drop all rows with NaN\n",
    "df = df1.copy() # Copy the dataframe\n",
    "df['debt2Equity'] = df['Total Debt'] / df['Total Equity']; df.head() # calculate the debt ratio\n"
   ]
  },
  {
   "cell_type": "markdown",
   "metadata": {},
   "source": [
    "### Step 2: Find publicly traded firms in each of these businesses and obtain their regression betas.\n",
    "\n",
    "This step computes the simple average across all betas to arrive at an average beta for the listed publicly traded firms."
   ]
  },
  {
   "cell_type": "code",
   "execution_count": 11,
   "metadata": {},
   "outputs": [
    {
     "data": {
      "text/html": [
       "<div>\n",
       "<style scoped>\n",
       "    .dataframe tbody tr th:only-of-type {\n",
       "        vertical-align: middle;\n",
       "    }\n",
       "\n",
       "    .dataframe tbody tr th {\n",
       "        vertical-align: top;\n",
       "    }\n",
       "\n",
       "    .dataframe thead th {\n",
       "        text-align: right;\n",
       "    }\n",
       "</style>\n",
       "<table border=\"1\" class=\"dataframe\">\n",
       "  <thead>\n",
       "    <tr style=\"text-align: right;\">\n",
       "      <th></th>\n",
       "      <th>Beta (5 Year)</th>\n",
       "      <th>Total Debt</th>\n",
       "      <th>Total Equity</th>\n",
       "      <th>Revenue</th>\n",
       "      <th>Enterprise Value (EV)</th>\n",
       "      <th>debt2Equity</th>\n",
       "    </tr>\n",
       "    <tr>\n",
       "      <th>Industry</th>\n",
       "      <th></th>\n",
       "      <th></th>\n",
       "      <th></th>\n",
       "      <th></th>\n",
       "      <th></th>\n",
       "      <th></th>\n",
       "    </tr>\n",
       "  </thead>\n",
       "  <tbody>\n",
       "    <tr>\n",
       "      <th>Entertainment</th>\n",
       "      <td>1.254531</td>\n",
       "      <td>1650.388646</td>\n",
       "      <td>2873.913394</td>\n",
       "      <td>2361.091313</td>\n",
       "      <td>11855.625608</td>\n",
       "      <td>0.780671</td>\n",
       "    </tr>\n",
       "  </tbody>\n",
       "</table>\n",
       "</div>"
      ],
      "text/plain": [
       "               Beta (5 Year)   Total Debt  Total Equity      Revenue  \\\n",
       "Industry                                                               \n",
       "Entertainment       1.254531  1650.388646   2873.913394  2361.091313   \n",
       "\n",
       "               Enterprise Value (EV)  debt2Equity  \n",
       "Industry                                           \n",
       "Entertainment           11855.625608     0.780671  "
      ]
     },
     "execution_count": 11,
     "metadata": {},
     "output_type": "execute_result"
    }
   ],
   "source": [
    "rblx = df.groupby('Industry').mean(); rblx"
   ]
  },
  {
   "cell_type": "markdown",
   "metadata": {},
   "source": [
    "### Step 3: Estimate how much value your firm derives from each of the different businesses it is in.\n",
    "Calculating the revenue and EV/Sales ratio gives me the weighted value of each business the company operates in. Roblox is 100% entertainment so this step is not essential."
   ]
  },
  {
   "cell_type": "code",
   "execution_count": 12,
   "metadata": {},
   "outputs": [
    {
     "data": {
      "text/html": [
       "<div>\n",
       "<style scoped>\n",
       "    .dataframe tbody tr th:only-of-type {\n",
       "        vertical-align: middle;\n",
       "    }\n",
       "\n",
       "    .dataframe tbody tr th {\n",
       "        vertical-align: top;\n",
       "    }\n",
       "\n",
       "    .dataframe thead th {\n",
       "        text-align: right;\n",
       "    }\n",
       "</style>\n",
       "<table border=\"1\" class=\"dataframe\">\n",
       "  <thead>\n",
       "    <tr style=\"text-align: right;\">\n",
       "      <th></th>\n",
       "      <th>Beta (5 Year)</th>\n",
       "      <th>Total Debt</th>\n",
       "      <th>Total Equity</th>\n",
       "      <th>Revenue</th>\n",
       "      <th>Enterprise Value (EV)</th>\n",
       "      <th>debt2Equity</th>\n",
       "      <th>EV/Sales</th>\n",
       "      <th>Value of Business</th>\n",
       "      <th>percent</th>\n",
       "    </tr>\n",
       "    <tr>\n",
       "      <th>Industry</th>\n",
       "      <th></th>\n",
       "      <th></th>\n",
       "      <th></th>\n",
       "      <th></th>\n",
       "      <th></th>\n",
       "      <th></th>\n",
       "      <th></th>\n",
       "      <th></th>\n",
       "      <th></th>\n",
       "    </tr>\n",
       "  </thead>\n",
       "  <tbody>\n",
       "    <tr>\n",
       "      <th>Entertainment</th>\n",
       "      <td>1.254531</td>\n",
       "      <td>1650.388646</td>\n",
       "      <td>2873.913394</td>\n",
       "      <td>2361.091313</td>\n",
       "      <td>11855.625608</td>\n",
       "      <td>0.780671</td>\n",
       "      <td>5.021248</td>\n",
       "      <td>11855.625608</td>\n",
       "      <td>1.0</td>\n",
       "    </tr>\n",
       "  </tbody>\n",
       "</table>\n",
       "</div>"
      ],
      "text/plain": [
       "               Beta (5 Year)   Total Debt  Total Equity      Revenue  \\\n",
       "Industry                                                               \n",
       "Entertainment       1.254531  1650.388646   2873.913394  2361.091313   \n",
       "\n",
       "               Enterprise Value (EV)  debt2Equity  EV/Sales  \\\n",
       "Industry                                                      \n",
       "Entertainment           11855.625608     0.780671  5.021248   \n",
       "\n",
       "               Value of Business  percent  \n",
       "Industry                                   \n",
       "Entertainment       11855.625608      1.0  "
      ]
     },
     "execution_count": 12,
     "metadata": {},
     "output_type": "execute_result"
    }
   ],
   "source": [
    "rblx['EV/Sales'] = rblx['Enterprise Value (EV)'] / rblx['Revenue']\n",
    "rblx['Value of Business'] = rblx['Revenue'] * rblx['EV/Sales']; rblx\n",
    "rblx['percent'] = (rblx['Value of Business'] / rblx['Value of Business'].sum()); rblx "
   ]
  },
  {
   "cell_type": "markdown",
   "metadata": {},
   "source": [
    "### Step 4: Compute a weighted average of the unlevered betas of the different businesses (from step 2) using the weights from step 3.\n",
    "\n",
    "Roblox operates solely in the entertainment industry so I only need to calculate the unlevered beta for the Entertainment industry. If this business mix changes over time this allocation can evolve.\n",
    "\n",
    "##### Unlevered Beta for Entertainment industry"
   ]
  },
  {
   "cell_type": "code",
   "execution_count": 13,
   "metadata": {},
   "outputs": [
    {
     "data": {
      "text/plain": [
       "0.7991200824345993"
      ]
     },
     "execution_count": 13,
     "metadata": {},
     "output_type": "execute_result"
    }
   ],
   "source": [
    "avg_beta_ent = rblx['Beta (5 Year)'][0]\n",
    "avg_taxrate = 0.27 # https://home.kpmg/xx/en/home/services/tax/tax-tools-and-resources/tax-rates-online/corporate-tax-rates-table.html\n",
    "avg_debt_equity_ent = rblx['debt2Equity'][0]; avg_debt_equity_ent\n",
    "\n",
    "unlevered_beta_ent = avg_beta_ent / (1 + (1 - avg_taxrate)*(avg_debt_equity_ent)) # One for every industry the firm operates in\n",
    "unlevered_beta = unlevered_beta_ent * rblx['percent'][0]; unlevered_beta # This is the weighted average unlevered beta for the industries the company operates in"
   ]
  },
  {
   "cell_type": "markdown",
   "metadata": {},
   "source": [
    "## Step 5: Compute a levered beta (equity beta) for your firm, using the market debt to equity ratio for your firm."
   ]
  },
  {
   "cell_type": "code",
   "execution_count": 14,
   "metadata": {},
   "outputs": [],
   "source": [
    "total_equity = 593 # https://finbox.com/NYSE:RBLX as of 19.03.22\n",
    "total_debt = 1234 # https://finbox.com/NYSE:RBLX as of 19.03.22\n",
    "rblx_de_ratio = total_debt / total_equity # This is roblox specific\n",
    "effective_taxrate = 0.0 # zero due to Roblox making a loss"
   ]
  },
  {
   "cell_type": "code",
   "execution_count": 15,
   "metadata": {},
   "outputs": [
    {
     "data": {
      "text/plain": [
       "2.4620445035548277"
      ]
     },
     "execution_count": 15,
     "metadata": {},
     "output_type": "execute_result"
    }
   ],
   "source": [
    "levered_beta = unlevered_beta*(1 + (1 - effective_taxrate)*(rblx_de_ratio))\n",
    "levered_beta"
   ]
  },
  {
   "cell_type": "markdown",
   "metadata": {},
   "source": [
    "### Cost of equity\n",
    "With the below formula I can calculate the cost of equity for Roblox."
   ]
  },
  {
   "cell_type": "code",
   "execution_count": 16,
   "metadata": {},
   "outputs": [
    {
     "data": {
      "text/plain": [
       "0.0640419354481757"
      ]
     },
     "execution_count": 16,
     "metadata": {},
     "output_type": "execute_result"
    }
   ],
   "source": [
    "cost_equity = rfrate + (levered_beta * irp); cost_equity"
   ]
  },
  {
   "cell_type": "markdown",
   "metadata": {},
   "source": [
    "### Next steps\n",
    "- Calculate the cost of equity"
   ]
  }
 ],
 "metadata": {
  "interpreter": {
   "hash": "3f2b1dcbd7767de7f24afee5b51f38010e8237b7fe7bdf48717e4d618279f169"
  },
  "kernelspec": {
   "display_name": "Python 3 (ipykernel)",
   "language": "python",
   "name": "python3"
  },
  "language_info": {
   "codemirror_mode": {
    "name": "ipython",
    "version": 3
   },
   "file_extension": ".py",
   "mimetype": "text/x-python",
   "name": "python",
   "nbconvert_exporter": "python",
   "pygments_lexer": "ipython3",
   "version": "3.9.7"
  }
 },
 "nbformat": 4,
 "nbformat_minor": 2
}
